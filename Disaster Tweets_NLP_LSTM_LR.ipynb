{
 "cells": [
  {
   "cell_type": "markdown",
   "id": "3eba7dc2",
   "metadata": {},
   "source": [
    "## Importing Dependencies"
   ]
  },
  {
   "cell_type": "code",
   "execution_count": 1,
   "id": "f5ff006a",
   "metadata": {},
   "outputs": [],
   "source": [
    "import numpy as np, pandas as pd, matplotlib.pyplot as plt, seaborn as sns, opendatasets as od, os\n",
    "from sklearn.model_selection import train_test_split\n",
    "from sklearn.feature_extraction.text import TfidfVectorizer\n",
    "from sklearn.linear_model import LogisticRegression\n",
    "from sklearn.metrics import accuracy_score\n",
    "import warnings                     \n",
    "warnings.filterwarnings(\"ignore\")"
   ]
  },
  {
   "cell_type": "markdown",
   "id": "7e07632f",
   "metadata": {},
   "source": [
    "## Data Collection & Preprocessing"
   ]
  },
  {
   "cell_type": "code",
   "execution_count": 2,
   "id": "ec0c92ca",
   "metadata": {},
   "outputs": [],
   "source": [
    "dataset = \"https://www.kaggle.com/competitions/nlp-getting-started/data?select=train.csv\""
   ]
  },
  {
   "cell_type": "code",
   "execution_count": 3,
   "id": "2b8d24b9",
   "metadata": {},
   "outputs": [
    {
     "name": "stdout",
     "output_type": "stream",
     "text": [
      "Skipping, found downloaded files in \".\\nlp-getting-started\" (use force=True to force download)\n"
     ]
    }
   ],
   "source": [
    "od.download(dataset)"
   ]
  },
  {
   "cell_type": "code",
   "execution_count": 4,
   "id": "8f67d123",
   "metadata": {},
   "outputs": [],
   "source": [
    "data_dir = r'.\\nlp-getting-started'"
   ]
  },
  {
   "cell_type": "code",
   "execution_count": 5,
   "id": "5270bedf",
   "metadata": {},
   "outputs": [
    {
     "data": {
      "text/plain": [
       "['.ipynb_checkpoints']"
      ]
     },
     "execution_count": 5,
     "metadata": {},
     "output_type": "execute_result"
    }
   ],
   "source": [
    "os.listdir(data_dir)"
   ]
  },
  {
   "cell_type": "code",
   "execution_count": 6,
   "id": "65aee766",
   "metadata": {},
   "outputs": [],
   "source": [
    "tweets_disaster_train = pd.read_csv('train.csv')"
   ]
  },
  {
   "cell_type": "code",
   "execution_count": 7,
   "id": "965b33b1",
   "metadata": {},
   "outputs": [],
   "source": [
    "tweets_disaster_test = pd.read_csv('test.csv')"
   ]
  },
  {
   "cell_type": "code",
   "execution_count": 8,
   "id": "0a7a1219",
   "metadata": {},
   "outputs": [],
   "source": [
    "tweets_disaster_submission = pd.read_csv('sample_submission.csv')"
   ]
  },
  {
   "cell_type": "code",
   "execution_count": 9,
   "id": "7c0f0ea9",
   "metadata": {},
   "outputs": [
    {
     "data": {
      "text/html": [
       "<div>\n",
       "<style scoped>\n",
       "    .dataframe tbody tr th:only-of-type {\n",
       "        vertical-align: middle;\n",
       "    }\n",
       "\n",
       "    .dataframe tbody tr th {\n",
       "        vertical-align: top;\n",
       "    }\n",
       "\n",
       "    .dataframe thead th {\n",
       "        text-align: right;\n",
       "    }\n",
       "</style>\n",
       "<table border=\"1\" class=\"dataframe\">\n",
       "  <thead>\n",
       "    <tr style=\"text-align: right;\">\n",
       "      <th></th>\n",
       "      <th>id</th>\n",
       "      <th>keyword</th>\n",
       "      <th>location</th>\n",
       "      <th>text</th>\n",
       "      <th>target</th>\n",
       "    </tr>\n",
       "  </thead>\n",
       "  <tbody>\n",
       "    <tr>\n",
       "      <th>0</th>\n",
       "      <td>1</td>\n",
       "      <td>NaN</td>\n",
       "      <td>NaN</td>\n",
       "      <td>Our Deeds are the Reason of this #earthquake M...</td>\n",
       "      <td>1</td>\n",
       "    </tr>\n",
       "    <tr>\n",
       "      <th>1</th>\n",
       "      <td>4</td>\n",
       "      <td>NaN</td>\n",
       "      <td>NaN</td>\n",
       "      <td>Forest fire near La Ronge Sask. Canada</td>\n",
       "      <td>1</td>\n",
       "    </tr>\n",
       "    <tr>\n",
       "      <th>2</th>\n",
       "      <td>5</td>\n",
       "      <td>NaN</td>\n",
       "      <td>NaN</td>\n",
       "      <td>All residents asked to 'shelter in place' are ...</td>\n",
       "      <td>1</td>\n",
       "    </tr>\n",
       "    <tr>\n",
       "      <th>3</th>\n",
       "      <td>6</td>\n",
       "      <td>NaN</td>\n",
       "      <td>NaN</td>\n",
       "      <td>13,000 people receive #wildfires evacuation or...</td>\n",
       "      <td>1</td>\n",
       "    </tr>\n",
       "    <tr>\n",
       "      <th>4</th>\n",
       "      <td>7</td>\n",
       "      <td>NaN</td>\n",
       "      <td>NaN</td>\n",
       "      <td>Just got sent this photo from Ruby #Alaska as ...</td>\n",
       "      <td>1</td>\n",
       "    </tr>\n",
       "    <tr>\n",
       "      <th>5</th>\n",
       "      <td>8</td>\n",
       "      <td>NaN</td>\n",
       "      <td>NaN</td>\n",
       "      <td>#RockyFire Update =&gt; California Hwy. 20 closed...</td>\n",
       "      <td>1</td>\n",
       "    </tr>\n",
       "    <tr>\n",
       "      <th>6</th>\n",
       "      <td>10</td>\n",
       "      <td>NaN</td>\n",
       "      <td>NaN</td>\n",
       "      <td>#flood #disaster Heavy rain causes flash flood...</td>\n",
       "      <td>1</td>\n",
       "    </tr>\n",
       "    <tr>\n",
       "      <th>7</th>\n",
       "      <td>13</td>\n",
       "      <td>NaN</td>\n",
       "      <td>NaN</td>\n",
       "      <td>I'm on top of the hill and I can see a fire in...</td>\n",
       "      <td>1</td>\n",
       "    </tr>\n",
       "    <tr>\n",
       "      <th>8</th>\n",
       "      <td>14</td>\n",
       "      <td>NaN</td>\n",
       "      <td>NaN</td>\n",
       "      <td>There's an emergency evacuation happening now ...</td>\n",
       "      <td>1</td>\n",
       "    </tr>\n",
       "    <tr>\n",
       "      <th>9</th>\n",
       "      <td>15</td>\n",
       "      <td>NaN</td>\n",
       "      <td>NaN</td>\n",
       "      <td>I'm afraid that the tornado is coming to our a...</td>\n",
       "      <td>1</td>\n",
       "    </tr>\n",
       "  </tbody>\n",
       "</table>\n",
       "</div>"
      ],
      "text/plain": [
       "   id keyword location                                               text  \\\n",
       "0   1     NaN      NaN  Our Deeds are the Reason of this #earthquake M...   \n",
       "1   4     NaN      NaN             Forest fire near La Ronge Sask. Canada   \n",
       "2   5     NaN      NaN  All residents asked to 'shelter in place' are ...   \n",
       "3   6     NaN      NaN  13,000 people receive #wildfires evacuation or...   \n",
       "4   7     NaN      NaN  Just got sent this photo from Ruby #Alaska as ...   \n",
       "5   8     NaN      NaN  #RockyFire Update => California Hwy. 20 closed...   \n",
       "6  10     NaN      NaN  #flood #disaster Heavy rain causes flash flood...   \n",
       "7  13     NaN      NaN  I'm on top of the hill and I can see a fire in...   \n",
       "8  14     NaN      NaN  There's an emergency evacuation happening now ...   \n",
       "9  15     NaN      NaN  I'm afraid that the tornado is coming to our a...   \n",
       "\n",
       "   target  \n",
       "0       1  \n",
       "1       1  \n",
       "2       1  \n",
       "3       1  \n",
       "4       1  \n",
       "5       1  \n",
       "6       1  \n",
       "7       1  \n",
       "8       1  \n",
       "9       1  "
      ]
     },
     "execution_count": 9,
     "metadata": {},
     "output_type": "execute_result"
    }
   ],
   "source": [
    "tweets_disaster_train.head(10)"
   ]
  },
  {
   "cell_type": "code",
   "execution_count": 10,
   "id": "b7b5cabf",
   "metadata": {},
   "outputs": [
    {
     "data": {
      "text/plain": [
       "id             0\n",
       "keyword       61\n",
       "location    2533\n",
       "text           0\n",
       "target         0\n",
       "dtype: int64"
      ]
     },
     "execution_count": 10,
     "metadata": {},
     "output_type": "execute_result"
    }
   ],
   "source": [
    "tweets_disaster_train.isna().sum()"
   ]
  },
  {
   "cell_type": "code",
   "execution_count": 11,
   "id": "da8fd36a",
   "metadata": {},
   "outputs": [
    {
     "data": {
      "text/plain": [
       "(7613, 5)"
      ]
     },
     "execution_count": 11,
     "metadata": {},
     "output_type": "execute_result"
    }
   ],
   "source": [
    "tweets_disaster_train.shape"
   ]
  },
  {
   "cell_type": "code",
   "execution_count": 12,
   "id": "8df244b7",
   "metadata": {},
   "outputs": [
    {
     "data": {
      "text/plain": [
       "keyword\n",
       "fatalities               45\n",
       "deluge                   42\n",
       "armageddon               42\n",
       "sinking                  41\n",
       "damage                   41\n",
       "                         ..\n",
       "forest%20fire            19\n",
       "epicentre                12\n",
       "threat                   11\n",
       "inundation               10\n",
       "radiation%20emergency     9\n",
       "Name: count, Length: 221, dtype: int64"
      ]
     },
     "execution_count": 12,
     "metadata": {},
     "output_type": "execute_result"
    }
   ],
   "source": [
    "tweets_disaster_train['keyword'].value_counts()"
   ]
  },
  {
   "cell_type": "code",
   "execution_count": 13,
   "id": "06c3f280",
   "metadata": {},
   "outputs": [
    {
     "data": {
      "text/plain": [
       "target\n",
       "0    4342\n",
       "1    3271\n",
       "Name: count, dtype: int64"
      ]
     },
     "execution_count": 13,
     "metadata": {},
     "output_type": "execute_result"
    }
   ],
   "source": [
    "tweets_disaster_train['target'].value_counts()"
   ]
  },
  {
   "cell_type": "markdown",
   "id": "e230cdc2",
   "metadata": {},
   "source": [
    "#### predicting whether a given tweet is about a real disaster or not.\n",
    "* If so, predict a 1. \n",
    "* If not, predict a 0."
   ]
  },
  {
   "cell_type": "markdown",
   "id": "e799e2ce",
   "metadata": {},
   "source": [
    "## Data Visualization"
   ]
  },
  {
   "cell_type": "code",
   "execution_count": 14,
   "id": "51b96df4",
   "metadata": {},
   "outputs": [],
   "source": [
    "tweets_disaster_train['keyword'].fillna('missing_word', inplace = True)\n",
    "tweets_disaster_train['location'].fillna('missing_location', inplace = True)"
   ]
  },
  {
   "cell_type": "code",
   "execution_count": 16,
   "id": "1c963800",
   "metadata": {},
   "outputs": [
    {
     "data": {
      "text/html": [
       "<div>\n",
       "<style scoped>\n",
       "    .dataframe tbody tr th:only-of-type {\n",
       "        vertical-align: middle;\n",
       "    }\n",
       "\n",
       "    .dataframe tbody tr th {\n",
       "        vertical-align: top;\n",
       "    }\n",
       "\n",
       "    .dataframe thead th {\n",
       "        text-align: right;\n",
       "    }\n",
       "</style>\n",
       "<table border=\"1\" class=\"dataframe\">\n",
       "  <thead>\n",
       "    <tr style=\"text-align: right;\">\n",
       "      <th></th>\n",
       "      <th>id</th>\n",
       "      <th>keyword</th>\n",
       "      <th>location</th>\n",
       "      <th>text</th>\n",
       "      <th>target</th>\n",
       "    </tr>\n",
       "  </thead>\n",
       "  <tbody>\n",
       "    <tr>\n",
       "      <th>0</th>\n",
       "      <td>1</td>\n",
       "      <td>missing_word</td>\n",
       "      <td>missing_location</td>\n",
       "      <td>Our Deeds are the Reason of this #earthquake M...</td>\n",
       "      <td>1</td>\n",
       "    </tr>\n",
       "    <tr>\n",
       "      <th>1</th>\n",
       "      <td>4</td>\n",
       "      <td>missing_word</td>\n",
       "      <td>missing_location</td>\n",
       "      <td>Forest fire near La Ronge Sask. Canada</td>\n",
       "      <td>1</td>\n",
       "    </tr>\n",
       "    <tr>\n",
       "      <th>2</th>\n",
       "      <td>5</td>\n",
       "      <td>missing_word</td>\n",
       "      <td>missing_location</td>\n",
       "      <td>All residents asked to 'shelter in place' are ...</td>\n",
       "      <td>1</td>\n",
       "    </tr>\n",
       "    <tr>\n",
       "      <th>3</th>\n",
       "      <td>6</td>\n",
       "      <td>missing_word</td>\n",
       "      <td>missing_location</td>\n",
       "      <td>13,000 people receive #wildfires evacuation or...</td>\n",
       "      <td>1</td>\n",
       "    </tr>\n",
       "    <tr>\n",
       "      <th>4</th>\n",
       "      <td>7</td>\n",
       "      <td>missing_word</td>\n",
       "      <td>missing_location</td>\n",
       "      <td>Just got sent this photo from Ruby #Alaska as ...</td>\n",
       "      <td>1</td>\n",
       "    </tr>\n",
       "  </tbody>\n",
       "</table>\n",
       "</div>"
      ],
      "text/plain": [
       "   id       keyword          location  \\\n",
       "0   1  missing_word  missing_location   \n",
       "1   4  missing_word  missing_location   \n",
       "2   5  missing_word  missing_location   \n",
       "3   6  missing_word  missing_location   \n",
       "4   7  missing_word  missing_location   \n",
       "\n",
       "                                                text  target  \n",
       "0  Our Deeds are the Reason of this #earthquake M...       1  \n",
       "1             Forest fire near La Ronge Sask. Canada       1  \n",
       "2  All residents asked to 'shelter in place' are ...       1  \n",
       "3  13,000 people receive #wildfires evacuation or...       1  \n",
       "4  Just got sent this photo from Ruby #Alaska as ...       1  "
      ]
     },
     "execution_count": 16,
     "metadata": {},
     "output_type": "execute_result"
    }
   ],
   "source": [
    "tweets_disaster_train.head()"
   ]
  },
  {
   "cell_type": "code",
   "execution_count": 17,
   "id": "2358e872",
   "metadata": {},
   "outputs": [
    {
     "data": {
      "image/png": "[encoded data removed]",
      "text/plain": [
       "<Figure size 640x480 with 1 Axes>"
      ]
     },
     "metadata": {},
     "output_type": "display_data"
    }
   ],
   "source": [
    "# Distribution of target \n",
    "sns.countplot(x = 'target', data = tweets_disaster_train)\n",
    "plt.title(\"Disaster Prediction\") \n",
    "plt.show()"
   ]
  },
  {
   "cell_type": "code",
   "execution_count": 18,
   "id": "be67594e",
   "metadata": {},
   "outputs": [],
   "source": [
    "# split the data according to \"target\" column \n",
    "tweets_disaster_1 = tweets_disaster_train[tweets_disaster_train['target'] == 1]\n",
    "tweets_disaster_0 = tweets_disaster_train[tweets_disaster_train['target'] == 0]"
   ]
  },
  {
   "cell_type": "code",
   "execution_count": 19,
   "id": "3094b8c6",
   "metadata": {},
   "outputs": [],
   "source": [
    "# the most 5 location according to \"target\"\n",
    "location_1 = tweets_disaster_1[(tweets_disaster_1['location'] != 'missing_location')]['location'].value_counts().head(5)\n",
    "location_0 = tweets_disaster_0[(tweets_disaster_0['location'] != 'missing_location')]['location'].value_counts().head(5)"
   ]
  },
  {
   "cell_type": "code",
   "execution_count": 20,
   "id": "ab5e0742",
   "metadata": {},
   "outputs": [
    {
     "data": {
      "text/plain": [
       "location\n",
       "USA              67\n",
       "United States    27\n",
       "Nigeria          22\n",
       "India            20\n",
       "Mumbai           19\n",
       "Name: count, dtype: int64"
      ]
     },
     "execution_count": 20,
     "metadata": {},
     "output_type": "execute_result"
    }
   ],
   "source": [
    "location_1.head()"
   ]
  },
  {
   "cell_type": "code",
   "execution_count": 21,
   "id": "78f265e4",
   "metadata": {},
   "outputs": [
    {
     "data": {
      "text/plain": [
       "location\n",
       "New York           55\n",
       "USA                37\n",
       "London             29\n",
       "United States      23\n",
       "Los Angeles, CA    18\n",
       "Name: count, dtype: int64"
      ]
     },
     "execution_count": 21,
     "metadata": {},
     "output_type": "execute_result"
    }
   ],
   "source": [
    "location_0.head()"
   ]
  },
  {
   "cell_type": "code",
   "execution_count": 22,
   "id": "e8719b3e",
   "metadata": {},
   "outputs": [
    {
     "data": {
      "image/png": "[encoded data removed]",
      "text/plain": [
       "<Figure size 1000x500 with 2 Axes>"
      ]
     },
     "metadata": {},
     "output_type": "display_data"
    }
   ],
   "source": [
    "# plot the most 5 location \n",
    "figure, axis = plt.subplots(1, 2, figsize = (10,5))\n",
    "axis[0].bar(location_1.index, location_1.values)\n",
    "axis[0].set_title('Most 5 country have real disasters')\n",
    "\n",
    "axis[1].bar(location_0.index, location_0.values)\n",
    "axis[1].set_title(\"Most 5 country don't have real disasters\")\n",
    "\n",
    "plt.tight_layout()\n",
    "plt.show()"
   ]
  },
  {
   "cell_type": "markdown",
   "id": "c1ce8269",
   "metadata": {},
   "source": [
    "## Spliting Data"
   ]
  },
  {
   "cell_type": "code",
   "execution_count": 23,
   "id": "dd5dcb7e",
   "metadata": {},
   "outputs": [],
   "source": [
    "x = tweets_disaster_train['text']\n",
    "y = tweets_disaster_train['target']"
   ]
  },
  {
   "cell_type": "markdown",
   "id": "40aa812e",
   "metadata": {},
   "source": [
    "## Train Test Split"
   ]
  },
  {
   "cell_type": "code",
   "execution_count": 24,
   "id": "01df6fca",
   "metadata": {},
   "outputs": [
    {
     "name": "stdout",
     "output_type": "stream",
     "text": [
      "(7613,) (6090,) (1523,)\n"
     ]
    }
   ],
   "source": [
    "x_train, x_test, y_train, y_test = train_test_split(x, y, test_size = 0.2, random_state = 3)\n",
    "print(x.shape, x_train.shape, x_test.shape)"
   ]
  },
  {
   "cell_type": "markdown",
   "id": "bd019cb3",
   "metadata": {},
   "source": [
    "## Features Extraction"
   ]
  },
  {
   "cell_type": "code",
   "execution_count": 25,
   "id": "7eec69fe",
   "metadata": {},
   "outputs": [],
   "source": [
    "# transform text to feature vectors\n",
    "feature_extraction = TfidfVectorizer(min_df = 1, stop_words = 'english', lowercase = True)\n",
    "\n",
    "x_train_feature = feature_extraction.fit_transform(x_train)\n",
    "x_test_feature = feature_extraction.transform(x_test)"
   ]
  },
  {
   "cell_type": "code",
   "execution_count": 26,
   "id": "545a63db",
   "metadata": {},
   "outputs": [
    {
     "name": "stdout",
     "output_type": "stream",
     "text": [
      "  (0, 10661)\t0.3213675903105281\n",
      "  (0, 16059)\t0.22735717289287755\n",
      "  (0, 4454)\t0.21125623045679642\n",
      "  (0, 5842)\t0.2606398153035932\n",
      "  (0, 12182)\t0.3213675903105281\n",
      "  (0, 7849)\t0.062391619928141503\n",
      "  (0, 17256)\t0.22489945870283523\n",
      "  (0, 12321)\t0.25468889333828776\n",
      "  (0, 3482)\t0.3213675903105281\n",
      "  (0, 10997)\t0.2359480228801948\n",
      "  (0, 14578)\t0.3213675903105281\n",
      "  (0, 17177)\t0.20266538046947916\n",
      "  (0, 7034)\t0.3213675903105281\n",
      "  (0, 881)\t0.3213675903105281\n",
      "  (1, 13002)\t0.3997816780165387\n",
      "  (1, 9563)\t0.4185953227447548\n",
      "  (1, 2418)\t0.34880589519396266\n",
      "  (1, 9797)\t0.291419914957883\n",
      "  (1, 17100)\t0.30329526373345855\n",
      "  (1, 14795)\t0.2978301123713865\n",
      "  (1, 5648)\t0.3604669241560167\n",
      "  (1, 9610)\t0.2523194809108824\n",
      "  (1, 16133)\t0.2899467703673145\n",
      "  (2, 3224)\t0.4046846061625915\n",
      "  (2, 13413)\t0.41489016468268913\n",
      "  :\t:\n",
      "  (6086, 3864)\t0.572613350540039\n",
      "  (6086, 7849)\t0.15624690406220487\n",
      "  (6087, 5588)\t0.4394268285130756\n",
      "  (6087, 10478)\t0.40566413320072975\n",
      "  (6087, 15339)\t0.3719014378883839\n",
      "  (6087, 17520)\t0.38591422251973345\n",
      "  (6087, 5828)\t0.3000111041535185\n",
      "  (6087, 17124)\t0.2745756389185286\n",
      "  (6087, 6867)\t0.28886439750678333\n",
      "  (6087, 9204)\t0.2529364891518577\n",
      "  (6087, 8887)\t0.20562649385871087\n",
      "  (6088, 10918)\t0.3994328085653848\n",
      "  (6088, 15904)\t0.3994328085653848\n",
      "  (6088, 7651)\t0.3687429932462313\n",
      "  (6088, 7765)\t0.3687429932462313\n",
      "  (6088, 3864)\t0.2841960045797902\n",
      "  (6088, 11324)\t0.29326349108016575\n",
      "  (6088, 12341)\t0.31655681233512767\n",
      "  (6088, 8643)\t0.3687429932462313\n",
      "  (6088, 7849)\t0.0775475210638413\n",
      "  (6089, 10429)\t0.5058395957754654\n",
      "  (6089, 4345)\t0.48894988606680184\n",
      "  (6089, 2320)\t0.45609504695200576\n",
      "  (6089, 14148)\t0.37905706191380734\n",
      "  (6089, 6865)\t0.3915959195651747\n"
     ]
    }
   ],
   "source": [
    "print(x_train_feature)"
   ]
  },
  {
   "cell_type": "markdown",
   "id": "1b48cb0b",
   "metadata": {},
   "source": [
    "## Logistic Regression Model"
   ]
  },
  {
   "cell_type": "code",
   "execution_count": 27,
   "id": "ef9d0a4c",
   "metadata": {},
   "outputs": [],
   "source": [
    "LR = LogisticRegression()"
   ]
  },
  {
   "cell_type": "code",
   "execution_count": 28,
   "id": "edd17f9e",
   "metadata": {},
   "outputs": [
    {
     "data": {
      "text/html": [
       "<style>#sk-container-id-1 {color: black;}#sk-container-id-1 pre{padding: 0;}#sk-container-id-1 div.sk-toggleable {background-color: white;}#sk-container-id-1 label.sk-toggleable__label {cursor: pointer;display: block;width: 100%;margin-bottom: 0;padding: 0.3em;box-sizing: border-box;text-align: center;}#sk-container-id-1 label.sk-toggleable__label-arrow:before {content: \"▸\";float: left;margin-right: 0.25em;color: #696969;}#sk-container-id-1 label.sk-toggleable__label-arrow:hover:before {color: black;}#sk-container-id-1 div.sk-estimator:hover label.sk-toggleable__label-arrow:before {color: black;}#sk-container-id-1 div.sk-toggleable__content {max-height: 0;max-width: 0;overflow: hidden;text-align: left;background-color: #f0f8ff;}#sk-container-id-1 div.sk-toggleable__content pre {margin: 0.2em;color: black;border-radius: 0.25em;background-color: #f0f8ff;}#sk-container-id-1 input.sk-toggleable__control:checked~div.sk-toggleable__content {max-height: 200px;max-width: 100%;overflow: auto;}#sk-container-id-1 input.sk-toggleable__control:checked~label.sk-toggleable__label-arrow:before {content: \"▾\";}#sk-container-id-1 div.sk-estimator input.sk-toggleable__control:checked~label.sk-toggleable__label {background-color: #d4ebff;}#sk-container-id-1 div.sk-label input.sk-toggleable__control:checked~label.sk-toggleable__label {background-color: #d4ebff;}#sk-container-id-1 input.sk-hidden--visually {border: 0;clip: rect(1px 1px 1px 1px);clip: rect(1px, 1px, 1px, 1px);height: 1px;margin: -1px;overflow: hidden;padding: 0;position: absolute;width: 1px;}#sk-container-id-1 div.sk-estimator {font-family: monospace;background-color: #f0f8ff;border: 1px dotted black;border-radius: 0.25em;box-sizing: border-box;margin-bottom: 0.5em;}#sk-container-id-1 div.sk-estimator:hover {background-color: #d4ebff;}#sk-container-id-1 div.sk-parallel-item::after {content: \"\";width: 100%;border-bottom: 1px solid gray;flex-grow: 1;}#sk-container-id-1 div.sk-label:hover label.sk-toggleable__label {background-color: #d4ebff;}#sk-container-id-1 div.sk-serial::before {content: \"\";position: absolute;border-left: 1px solid gray;box-sizing: border-box;top: 0;bottom: 0;left: 50%;z-index: 0;}#sk-container-id-1 div.sk-serial {display: flex;flex-direction: column;align-items: center;background-color: white;padding-right: 0.2em;padding-left: 0.2em;position: relative;}#sk-container-id-1 div.sk-item {position: relative;z-index: 1;}#sk-container-id-1 div.sk-parallel {display: flex;align-items: stretch;justify-content: center;background-color: white;position: relative;}#sk-container-id-1 div.sk-item::before, #sk-container-id-1 div.sk-parallel-item::before {content: \"\";position: absolute;border-left: 1px solid gray;box-sizing: border-box;top: 0;bottom: 0;left: 50%;z-index: -1;}#sk-container-id-1 div.sk-parallel-item {display: flex;flex-direction: column;z-index: 1;position: relative;background-color: white;}#sk-container-id-1 div.sk-parallel-item:first-child::after {align-self: flex-end;width: 50%;}#sk-container-id-1 div.sk-parallel-item:last-child::after {align-self: flex-start;width: 50%;}#sk-container-id-1 div.sk-parallel-item:only-child::after {width: 0;}#sk-container-id-1 div.sk-dashed-wrapped {border: 1px dashed gray;margin: 0 0.4em 0.5em 0.4em;box-sizing: border-box;padding-bottom: 0.4em;background-color: white;}#sk-container-id-1 div.sk-label label {font-family: monospace;font-weight: bold;display: inline-block;line-height: 1.2em;}#sk-container-id-1 div.sk-label-container {text-align: center;}#sk-container-id-1 div.sk-container {/* jupyter's `normalize.less` sets `[hidden] { display: none; }` but bootstrap.min.css set `[hidden] { display: none !important; }` so we also need the `!important` here to be able to override the default hidden behavior on the sphinx rendered scikit-learn.org. See: https://github.com/scikit-learn/scikit-learn/issues/21755 */display: inline-block !important;position: relative;}#sk-container-id-1 div.sk-text-repr-fallback {display: none;}</style><div id=\"sk-container-id-1\" class=\"sk-top-container\"><div class=\"sk-text-repr-fallback\"><pre>LogisticRegression()</pre><b>In a Jupyter environment, please rerun this cell to show the HTML representation or trust the notebook. <br />On GitHub, the HTML representation is unable to render, please try loading this page with nbviewer.org.</b></div><div class=\"sk-container\" hidden><div class=\"sk-item\"><div class=\"sk-estimator sk-toggleable\"><input class=\"sk-toggleable__control sk-hidden--visually\" id=\"sk-estimator-id-1\" type=\"checkbox\" checked><label for=\"sk-estimator-id-1\" class=\"sk-toggleable__label sk-toggleable__label-arrow\">LogisticRegression</label><div class=\"sk-toggleable__content\"><pre>LogisticRegression()</pre></div></div></div></div></div>"
      ],
      "text/plain": [
       "LogisticRegression()"
      ]
     },
     "execution_count": 28,
     "metadata": {},
     "output_type": "execute_result"
    }
   ],
   "source": [
    "LR.fit(x_train_feature, y_train)"
   ]
  },
  {
   "cell_type": "code",
   "execution_count": 29,
   "id": "7189f875",
   "metadata": {},
   "outputs": [],
   "source": [
    "LR_Train_prediction = LR.predict(x_train_feature)\n",
    "LR_Test_prediction = LR.predict(x_test_feature)"
   ]
  },
  {
   "cell_type": "markdown",
   "id": "a1f4e35d",
   "metadata": {},
   "source": [
    "## Evaluation"
   ]
  },
  {
   "cell_type": "code",
   "execution_count": 30,
   "id": "73938956",
   "metadata": {},
   "outputs": [
    {
     "name": "stdout",
     "output_type": "stream",
     "text": [
      "Accuracy on train data: 0.8922824302134647\n"
     ]
    }
   ],
   "source": [
    "# accuracy on training data\n",
    "train_accuracy = accuracy_score(y_train, LR_Train_prediction)\n",
    "print('Accuracy on train data:',train_accuracy)"
   ]
  },
  {
   "cell_type": "code",
   "execution_count": 31,
   "id": "8654f85e",
   "metadata": {},
   "outputs": [
    {
     "name": "stdout",
     "output_type": "stream",
     "text": [
      "Accuracy on test data: 0.7918581746552856\n"
     ]
    }
   ],
   "source": [
    "# accuracy on test data\n",
    "test_accuracy = accuracy_score(y_test, LR_Test_prediction)\n",
    "print('Accuracy on test data:',test_accuracy)"
   ]
  },
  {
   "cell_type": "markdown",
   "id": "654398a9",
   "metadata": {},
   "source": [
    "## Building LSTM model"
   ]
  },
  {
   "cell_type": "code",
   "execution_count": 32,
   "id": "a0ff7c5b",
   "metadata": {},
   "outputs": [],
   "source": [
    "# Import Libraries\n",
    "import tensorflow as tf\n",
    "from tensorflow.keras.preprocessing.text import Tokenizer\n",
    "from tensorflow.keras.preprocessing.sequence import pad_sequences\n",
    "from tensorflow.keras.models import Sequential\n",
    "from tensorflow.keras.layers import Embedding, LSTM, Dense"
   ]
  },
  {
   "cell_type": "code",
   "execution_count": 33,
   "id": "978d1140",
   "metadata": {},
   "outputs": [
    {
     "name": "stdout",
     "output_type": "stream",
     "text": [
      "Maximum Sequence Length: 31\n"
     ]
    }
   ],
   "source": [
    "# Preprocess the Data\n",
    "max_length = max(len(sequence.split()) for sequence in tweets_disaster_train['text'])\n",
    "print(\"Maximum Sequence Length:\", max_length)"
   ]
  },
  {
   "cell_type": "code",
   "execution_count": 40,
   "id": "acdc205f",
   "metadata": {},
   "outputs": [],
   "source": [
    "# Tokenize the text data and pad sequences to make them of the same length.\n",
    "texts_train = tweets_disaster_train['text'].values\n",
    "texts_test = tweets_disaster_test['text'].values\n",
    "targets = tweets_disaster_train['target'].values\n",
    "\n",
    "tokenizer = Tokenizer(oov_token=\"<OOV>\")\n",
    "tokenizer.fit_on_texts(texts_train)\n",
    "tokenizer.fit_on_texts(texts_test)\n",
    "\n",
    "train_sequences = tokenizer.texts_to_sequences(texts_train)\n",
    "test_sequences = tokenizer.texts_to_sequences(texts_test)\n",
    "\n",
    "padded_train_sequences = pad_sequences(train_sequences, maxlen=max_length, padding='post', truncating='post')\n",
    "padded_test_sequences = pad_sequences(test_sequences, maxlen=max_length, padding='post', truncating='post')"
   ]
  },
  {
   "cell_type": "code",
   "execution_count": 41,
   "id": "355a9d29",
   "metadata": {},
   "outputs": [
    {
     "name": "stdout",
     "output_type": "stream",
     "text": [
      "29321\n"
     ]
    }
   ],
   "source": [
    "vocab_size = len(tokenizer.word_index) + 1\n",
    "embedding_dim = 100\n",
    "print(vocab_size)"
   ]
  },
  {
   "cell_type": "code",
   "execution_count": 42,
   "id": "958b51b8",
   "metadata": {},
   "outputs": [],
   "source": [
    "# Define LSTM\n",
    "model = Sequential()\n",
    "model.add(Embedding(input_dim=vocab_size, output_dim=embedding_dim, input_length=max_length))\n",
    "model.add(LSTM(units=100))\n",
    "model.add(Dense(units=1, activation='sigmoid'))"
   ]
  },
  {
   "cell_type": "code",
   "execution_count": 43,
   "id": "4aa21245",
   "metadata": {},
   "outputs": [],
   "source": [
    "# compile the model \n",
    "model.compile(optimizer='adam', loss='binary_crossentropy', metrics=['accuracy'])"
   ]
  },
  {
   "cell_type": "code",
   "execution_count": 44,
   "id": "fa4ae3a3",
   "metadata": {},
   "outputs": [],
   "source": [
    "# Train test split \n",
    "X_train, X_test, Y_train, Y_test = train_test_split(padded_train_sequences, targets, test_size = 0.2, random_state = 3)"
   ]
  },
  {
   "cell_type": "code",
   "execution_count": 45,
   "id": "6d3dc456",
   "metadata": {},
   "outputs": [
    {
     "name": "stdout",
     "output_type": "stream",
     "text": [
      "Epoch 1/10\n",
      "191/191 [==============================] - 19s 90ms/step - loss: 0.5335 - accuracy: 0.7309 - val_loss: 0.4495 - val_accuracy: 0.8024\n",
      "Epoch 2/10\n",
      "191/191 [==============================] - 17s 88ms/step - loss: 0.2867 - accuracy: 0.8911 - val_loss: 0.4605 - val_accuracy: 0.7965\n",
      "Epoch 3/10\n",
      "191/191 [==============================] - 17s 88ms/step - loss: 0.1372 - accuracy: 0.9532 - val_loss: 0.5931 - val_accuracy: 0.7748\n",
      "Epoch 4/10\n",
      "191/191 [==============================] - 17s 88ms/step - loss: 0.0705 - accuracy: 0.9791 - val_loss: 0.6389 - val_accuracy: 0.7774\n",
      "Epoch 5/10\n",
      "191/191 [==============================] - 17s 89ms/step - loss: 0.0408 - accuracy: 0.9882 - val_loss: 1.1496 - val_accuracy: 0.7676\n",
      "Epoch 6/10\n",
      "191/191 [==============================] - 17s 89ms/step - loss: 0.0240 - accuracy: 0.9933 - val_loss: 1.1175 - val_accuracy: 0.7735\n",
      "Epoch 7/10\n",
      "191/191 [==============================] - 17s 90ms/step - loss: 0.0309 - accuracy: 0.9918 - val_loss: 1.1107 - val_accuracy: 0.7800\n",
      "Epoch 8/10\n",
      "191/191 [==============================] - 17s 90ms/step - loss: 0.0179 - accuracy: 0.9916 - val_loss: 1.3124 - val_accuracy: 0.7781\n",
      "Epoch 9/10\n",
      "191/191 [==============================] - 17s 90ms/step - loss: 0.0127 - accuracy: 0.9951 - val_loss: 1.2756 - val_accuracy: 0.7741\n",
      "Epoch 10/10\n",
      "191/191 [==============================] - 17s 90ms/step - loss: 0.0231 - accuracy: 0.9921 - val_loss: 1.0511 - val_accuracy: 0.7702\n"
     ]
    },
    {
     "data": {
      "text/plain": [
       "<keras.src.callbacks.History at 0x1cfdf946c80>"
      ]
     },
     "execution_count": 45,
     "metadata": {},
     "output_type": "execute_result"
    }
   ],
   "source": [
    "#Train the LSTM model on your training data.\n",
    "model.fit(X_train, y_train, epochs=10, validation_data=(X_test, y_test))"
   ]
  },
  {
   "cell_type": "code",
   "execution_count": 46,
   "id": "96b3b1fd",
   "metadata": {},
   "outputs": [
    {
     "name": "stdout",
     "output_type": "stream",
     "text": [
      "48/48 [==============================] - 0s 5ms/step - loss: 1.0511 - accuracy: 0.7702\n"
     ]
    }
   ],
   "source": [
    "# accuracy on test data\n",
    "loss, accuracy = model.evaluate(X_test, y_test)"
   ]
  },
  {
   "cell_type": "markdown",
   "id": "2a9e57c8",
   "metadata": {},
   "source": [
    "## Prediction system "
   ]
  },
  {
   "cell_type": "markdown",
   "id": "2858fe46",
   "metadata": {},
   "source": [
    "* Prediction on Logistic Regression"
   ]
  },
  {
   "cell_type": "code",
   "execution_count": 47,
   "id": "08641e56",
   "metadata": {},
   "outputs": [
    {
     "name": "stdout",
     "output_type": "stream",
     "text": [
      "[1]\n",
      "Real Disaster\n"
     ]
    }
   ],
   "source": [
    "input_tweet = [\"@bbcmtd Wholesale Markets ablaze http://t.co/lHYXEOHY6C\"]\n",
    "input_tweet_feature = feature_extraction.transform(input_tweet)\n",
    "\n",
    "prediction = LR.predict(input_tweet_feature)\n",
    "print(prediction)\n",
    "\n",
    "if prediction[0]==1:\n",
    "    print('Real Disaster')\n",
    "else :\n",
    "    print('Not_Real Disaster')"
   ]
  },
  {
   "cell_type": "markdown",
   "id": "97cf2c5c",
   "metadata": {},
   "source": [
    "* Prediction on LSTM Model"
   ]
  },
  {
   "cell_type": "code",
   "execution_count": 48,
   "id": "0cf7e24d",
   "metadata": {},
   "outputs": [
    {
     "name": "stdout",
     "output_type": "stream",
     "text": [
      "1/1 [==============================] - 0s 373ms/step\n",
      "[[0.9994508]]\n",
      "Real Disaster\n"
     ]
    }
   ],
   "source": [
    "new_texts = [\"@bbcmtd Wholesale Markets ablaze http://t.co/lHYXEOHY6C\"]\n",
    "new_sequences = tokenizer.texts_to_sequences(new_texts)\n",
    "new_padded_sequences = pad_sequences(new_sequences, maxlen=max_length, padding='post', truncating='post')\n",
    "\n",
    "predictions = model.predict(new_padded_sequences)\n",
    "print(predictions)\n",
    "\n",
    "if predictions>= 0.5:\n",
    "    print('Real Disaster')\n",
    "else :\n",
    "    print('Not_Real Disaster')"
   ]
  },
  {
   "cell_type": "markdown",
   "id": "7cfed2ec",
   "metadata": {},
   "source": [
    "## Submission "
   ]
  },
  {
   "cell_type": "code",
   "execution_count": 49,
   "id": "a6583982",
   "metadata": {},
   "outputs": [
    {
     "name": "stdout",
     "output_type": "stream",
     "text": [
      "102/102 [==============================] - 1s 5ms/step\n"
     ]
    }
   ],
   "source": [
    "prediction = model.predict(padded_test_sequences)"
   ]
  },
  {
   "cell_type": "code",
   "execution_count": 50,
   "id": "670ee994",
   "metadata": {},
   "outputs": [],
   "source": [
    "prediction = (prediction > 0.5).astype(int)"
   ]
  },
  {
   "cell_type": "code",
   "execution_count": 51,
   "id": "80355f1a",
   "metadata": {},
   "outputs": [],
   "source": [
    "tweets_disaster_submission['target']= prediction"
   ]
  },
  {
   "cell_type": "code",
   "execution_count": 52,
   "id": "2687e946",
   "metadata": {},
   "outputs": [
    {
     "data": {
      "text/html": [
       "<div>\n",
       "<style scoped>\n",
       "    .dataframe tbody tr th:only-of-type {\n",
       "        vertical-align: middle;\n",
       "    }\n",
       "\n",
       "    .dataframe tbody tr th {\n",
       "        vertical-align: top;\n",
       "    }\n",
       "\n",
       "    .dataframe thead th {\n",
       "        text-align: right;\n",
       "    }\n",
       "</style>\n",
       "<table border=\"1\" class=\"dataframe\">\n",
       "  <thead>\n",
       "    <tr style=\"text-align: right;\">\n",
       "      <th></th>\n",
       "      <th>id</th>\n",
       "      <th>target</th>\n",
       "    </tr>\n",
       "  </thead>\n",
       "  <tbody>\n",
       "    <tr>\n",
       "      <th>0</th>\n",
       "      <td>0</td>\n",
       "      <td>0</td>\n",
       "    </tr>\n",
       "    <tr>\n",
       "      <th>1</th>\n",
       "      <td>2</td>\n",
       "      <td>1</td>\n",
       "    </tr>\n",
       "    <tr>\n",
       "      <th>2</th>\n",
       "      <td>3</td>\n",
       "      <td>1</td>\n",
       "    </tr>\n",
       "    <tr>\n",
       "      <th>3</th>\n",
       "      <td>9</td>\n",
       "      <td>1</td>\n",
       "    </tr>\n",
       "    <tr>\n",
       "      <th>4</th>\n",
       "      <td>11</td>\n",
       "      <td>1</td>\n",
       "    </tr>\n",
       "    <tr>\n",
       "      <th>5</th>\n",
       "      <td>12</td>\n",
       "      <td>1</td>\n",
       "    </tr>\n",
       "    <tr>\n",
       "      <th>6</th>\n",
       "      <td>21</td>\n",
       "      <td>0</td>\n",
       "    </tr>\n",
       "    <tr>\n",
       "      <th>7</th>\n",
       "      <td>22</td>\n",
       "      <td>0</td>\n",
       "    </tr>\n",
       "    <tr>\n",
       "      <th>8</th>\n",
       "      <td>27</td>\n",
       "      <td>0</td>\n",
       "    </tr>\n",
       "    <tr>\n",
       "      <th>9</th>\n",
       "      <td>29</td>\n",
       "      <td>0</td>\n",
       "    </tr>\n",
       "  </tbody>\n",
       "</table>\n",
       "</div>"
      ],
      "text/plain": [
       "   id  target\n",
       "0   0       0\n",
       "1   2       1\n",
       "2   3       1\n",
       "3   9       1\n",
       "4  11       1\n",
       "5  12       1\n",
       "6  21       0\n",
       "7  22       0\n",
       "8  27       0\n",
       "9  29       0"
      ]
     },
     "execution_count": 52,
     "metadata": {},
     "output_type": "execute_result"
    }
   ],
   "source": [
    "tweets_disaster_submission.head(10)"
   ]
  },
  {
   "cell_type": "code",
   "execution_count": null,
   "id": "d0344eb5",
   "metadata": {},
   "outputs": [],
   "source": []
  }
 ],
 "metadata": {
  "kernelspec": {
   "display_name": "Python 3 (ipykernel)",
   "language": "python",
   "name": "python3"
  },
  "language_info": {
   "codemirror_mode": {
    "name": "ipython",
    "version": 3
   },
   "file_extension": ".py",
   "mimetype": "text/x-python",
   "name": "python",
   "nbconvert_exporter": "python",
   "pygments_lexer": "ipython3",
   "version": "3.10.12"
  }
 },
 "nbformat": 4,
 "nbformat_minor": 5
}
